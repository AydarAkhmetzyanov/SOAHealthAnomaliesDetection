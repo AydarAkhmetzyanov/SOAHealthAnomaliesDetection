{
 "cells": [
  {
   "cell_type": "code",
   "execution_count": 268,
   "metadata": {
    "collapsed": true
   },
   "outputs": [],
   "source": [
    "import pandas as pd\n",
    "import numpy as np\n",
    "import matplotlib\n",
    "import matplotlib.pyplot as plt\n",
    "%matplotlib inline"
   ]
  },
  {
   "cell_type": "code",
   "execution_count": 269,
   "metadata": {
    "collapsed": true
   },
   "outputs": [],
   "source": [
    "df0 = pd.read_pickle('preprocessed_data.pickle')"
   ]
  },
  {
   "cell_type": "code",
   "execution_count": 270,
   "metadata": {
    "collapsed": true
   },
   "outputs": [],
   "source": [
    "df0['date']=df0['INTERVAL_START'].dt.date"
   ]
  },
  {
   "cell_type": "markdown",
   "metadata": {},
   "source": [
    "# visualization"
   ]
  },
  {
   "cell_type": "code",
   "execution_count": 271,
   "metadata": {},
   "outputs": [],
   "source": [
    "df = df0[(df0['INTERVAL_START'] >= '2017-09-13 00:00:00') & (df0['INTERVAL_START'] <= '2017-09-16 00:00:00')]"
   ]
  },
  {
   "cell_type": "code",
   "execution_count": 272,
   "metadata": {},
   "outputs": [
    {
     "data": {
      "text/html": [
       "<div>\n",
       "<style>\n",
       "    .dataframe thead tr:only-child th {\n",
       "        text-align: right;\n",
       "    }\n",
       "\n",
       "    .dataframe thead th {\n",
       "        text-align: left;\n",
       "    }\n",
       "\n",
       "    .dataframe tbody tr th {\n",
       "        vertical-align: top;\n",
       "    }\n",
       "</style>\n",
       "<table border=\"1\" class=\"dataframe\">\n",
       "  <thead>\n",
       "    <tr style=\"text-align: right;\">\n",
       "      <th></th>\n",
       "      <th>INTERVAL_START</th>\n",
       "      <th>ServiceContractMethod</th>\n",
       "      <th>SucceededCount</th>\n",
       "      <th>BusinessErrorCount</th>\n",
       "      <th>TotalTime</th>\n",
       "      <th>AvgDuration</th>\n",
       "      <th>date</th>\n",
       "    </tr>\n",
       "  </thead>\n",
       "  <tbody>\n",
       "    <tr>\n",
       "      <th>65755</th>\n",
       "      <td>2017-09-14</td>\n",
       "      <td>BillingDomain/CreditCardGateway/v001/ServiceCo...</td>\n",
       "      <td>716</td>\n",
       "      <td>0</td>\n",
       "      <td>3.207108</td>\n",
       "      <td>0.004500</td>\n",
       "      <td>2017-09-14</td>\n",
       "    </tr>\n",
       "    <tr>\n",
       "      <th>65756</th>\n",
       "      <td>2017-09-14</td>\n",
       "      <td>BillingDomain/TelBillDoc/v001/ServiceContracts...</td>\n",
       "      <td>26981</td>\n",
       "      <td>0</td>\n",
       "      <td>1644.263508</td>\n",
       "      <td>0.061095</td>\n",
       "      <td>2017-09-14</td>\n",
       "    </tr>\n",
       "    <tr>\n",
       "      <th>65757</th>\n",
       "      <td>2017-09-14</td>\n",
       "      <td>BillingDomain/TelBillDoc/v001/ServiceContracts...</td>\n",
       "      <td>17</td>\n",
       "      <td>1</td>\n",
       "      <td>0.109126</td>\n",
       "      <td>0.005455</td>\n",
       "      <td>2017-09-14</td>\n",
       "    </tr>\n",
       "    <tr>\n",
       "      <th>65758</th>\n",
       "      <td>2017-09-14</td>\n",
       "      <td>BillingDomain/UnitedDocument/v001/ServiceContr...</td>\n",
       "      <td>4</td>\n",
       "      <td>0</td>\n",
       "      <td>0.062400</td>\n",
       "      <td>0.016000</td>\n",
       "      <td>2017-09-14</td>\n",
       "    </tr>\n",
       "    <tr>\n",
       "      <th>65759</th>\n",
       "      <td>2017-09-14</td>\n",
       "      <td>BillingDomain/UnitedDocument/v001/ServiceContr...</td>\n",
       "      <td>1</td>\n",
       "      <td>0</td>\n",
       "      <td>0.124772</td>\n",
       "      <td>0.125000</td>\n",
       "      <td>2017-09-14</td>\n",
       "    </tr>\n",
       "    <tr>\n",
       "      <th>65760</th>\n",
       "      <td>2017-09-14</td>\n",
       "      <td>BillingDomain/UnitedDocument/v001/ServiceContr...</td>\n",
       "      <td>5</td>\n",
       "      <td>0</td>\n",
       "      <td>0.093581</td>\n",
       "      <td>0.017000</td>\n",
       "      <td>2017-09-14</td>\n",
       "    </tr>\n",
       "    <tr>\n",
       "      <th>65761</th>\n",
       "      <td>2017-09-14</td>\n",
       "      <td>BillingDomain/UnitedDocument/v001/ServiceContr...</td>\n",
       "      <td>1</td>\n",
       "      <td>0</td>\n",
       "      <td>0.000000</td>\n",
       "      <td>0.000000</td>\n",
       "      <td>2017-09-14</td>\n",
       "    </tr>\n",
       "    <tr>\n",
       "      <th>65762</th>\n",
       "      <td>2017-09-14</td>\n",
       "      <td>BillingDomain/UnitedDocument/v001/ServiceContr...</td>\n",
       "      <td>1</td>\n",
       "      <td>0</td>\n",
       "      <td>0.000000</td>\n",
       "      <td>0.000000</td>\n",
       "      <td>2017-09-14</td>\n",
       "    </tr>\n",
       "    <tr>\n",
       "      <th>65763</th>\n",
       "      <td>2017-09-14</td>\n",
       "      <td>FORIS.RIF/Convergent/IRifConvergent ReturnPhon...</td>\n",
       "      <td>36</td>\n",
       "      <td>0</td>\n",
       "      <td>25.974667</td>\n",
       "      <td>0.723500</td>\n",
       "      <td>2017-09-14</td>\n",
       "    </tr>\n",
       "    <tr>\n",
       "      <th>65764</th>\n",
       "      <td>2017-09-14</td>\n",
       "      <td>FORIS.ResourceInventory.ResourcesSettingsServi...</td>\n",
       "      <td>63</td>\n",
       "      <td>0</td>\n",
       "      <td>0.015605</td>\n",
       "      <td>0.000250</td>\n",
       "      <td>2017-09-14</td>\n",
       "    </tr>\n",
       "  </tbody>\n",
       "</table>\n",
       "</div>"
      ],
      "text/plain": [
       "      INTERVAL_START                              ServiceContractMethod  \\\n",
       "65755     2017-09-14  BillingDomain/CreditCardGateway/v001/ServiceCo...   \n",
       "65756     2017-09-14  BillingDomain/TelBillDoc/v001/ServiceContracts...   \n",
       "65757     2017-09-14  BillingDomain/TelBillDoc/v001/ServiceContracts...   \n",
       "65758     2017-09-14  BillingDomain/UnitedDocument/v001/ServiceContr...   \n",
       "65759     2017-09-14  BillingDomain/UnitedDocument/v001/ServiceContr...   \n",
       "65760     2017-09-14  BillingDomain/UnitedDocument/v001/ServiceContr...   \n",
       "65761     2017-09-14  BillingDomain/UnitedDocument/v001/ServiceContr...   \n",
       "65762     2017-09-14  BillingDomain/UnitedDocument/v001/ServiceContr...   \n",
       "65763     2017-09-14  FORIS.RIF/Convergent/IRifConvergent ReturnPhon...   \n",
       "65764     2017-09-14  FORIS.ResourceInventory.ResourcesSettingsServi...   \n",
       "\n",
       "       SucceededCount  BusinessErrorCount    TotalTime  AvgDuration  \\\n",
       "65755             716                   0     3.207108     0.004500   \n",
       "65756           26981                   0  1644.263508     0.061095   \n",
       "65757              17                   1     0.109126     0.005455   \n",
       "65758               4                   0     0.062400     0.016000   \n",
       "65759               1                   0     0.124772     0.125000   \n",
       "65760               5                   0     0.093581     0.017000   \n",
       "65761               1                   0     0.000000     0.000000   \n",
       "65762               1                   0     0.000000     0.000000   \n",
       "65763              36                   0    25.974667     0.723500   \n",
       "65764              63                   0     0.015605     0.000250   \n",
       "\n",
       "             date  \n",
       "65755  2017-09-14  \n",
       "65756  2017-09-14  \n",
       "65757  2017-09-14  \n",
       "65758  2017-09-14  \n",
       "65759  2017-09-14  \n",
       "65760  2017-09-14  \n",
       "65761  2017-09-14  \n",
       "65762  2017-09-14  \n",
       "65763  2017-09-14  \n",
       "65764  2017-09-14  "
      ]
     },
     "execution_count": 272,
     "metadata": {},
     "output_type": "execute_result"
    }
   ],
   "source": [
    "df.head(10)"
   ]
  },
  {
   "cell_type": "code",
   "execution_count": null,
   "metadata": {},
   "outputs": [],
   "source": []
  },
  {
   "cell_type": "code",
   "execution_count": null,
   "metadata": {},
   "outputs": [],
   "source": []
  },
  {
   "cell_type": "code",
   "execution_count": 273,
   "metadata": {},
   "outputs": [
    {
     "data": {
      "text/html": [
       "<div>\n",
       "<style>\n",
       "    .dataframe thead tr:only-child th {\n",
       "        text-align: right;\n",
       "    }\n",
       "\n",
       "    .dataframe thead th {\n",
       "        text-align: left;\n",
       "    }\n",
       "\n",
       "    .dataframe tbody tr th {\n",
       "        vertical-align: top;\n",
       "    }\n",
       "</style>\n",
       "<table border=\"1\" class=\"dataframe\">\n",
       "  <thead>\n",
       "    <tr style=\"text-align: right;\">\n",
       "      <th></th>\n",
       "      <th>INTERVAL_START</th>\n",
       "      <th>ServiceContractMethod</th>\n",
       "      <th>SucceededCount</th>\n",
       "      <th>BusinessErrorCount</th>\n",
       "      <th>TotalTime</th>\n",
       "      <th>AvgDuration</th>\n",
       "    </tr>\n",
       "    <tr>\n",
       "      <th>date</th>\n",
       "      <th></th>\n",
       "      <th></th>\n",
       "      <th></th>\n",
       "      <th></th>\n",
       "      <th></th>\n",
       "      <th></th>\n",
       "    </tr>\n",
       "  </thead>\n",
       "  <tbody>\n",
       "    <tr>\n",
       "      <th>2017-09-14</th>\n",
       "      <td>22564</td>\n",
       "      <td>22564</td>\n",
       "      <td>22564</td>\n",
       "      <td>22564</td>\n",
       "      <td>22564</td>\n",
       "      <td>22564</td>\n",
       "    </tr>\n",
       "    <tr>\n",
       "      <th>2017-09-15</th>\n",
       "      <td>22153</td>\n",
       "      <td>22153</td>\n",
       "      <td>22153</td>\n",
       "      <td>22153</td>\n",
       "      <td>22153</td>\n",
       "      <td>22153</td>\n",
       "    </tr>\n",
       "  </tbody>\n",
       "</table>\n",
       "</div>"
      ],
      "text/plain": [
       "            INTERVAL_START  ServiceContractMethod  SucceededCount  \\\n",
       "date                                                                \n",
       "2017-09-14           22564                  22564           22564   \n",
       "2017-09-15           22153                  22153           22153   \n",
       "\n",
       "            BusinessErrorCount  TotalTime  AvgDuration  \n",
       "date                                                    \n",
       "2017-09-14               22564      22564        22564  \n",
       "2017-09-15               22153      22153        22153  "
      ]
     },
     "execution_count": 273,
     "metadata": {},
     "output_type": "execute_result"
    }
   ],
   "source": [
    "df.groupby('date').count()"
   ]
  },
  {
   "cell_type": "code",
   "execution_count": 274,
   "metadata": {},
   "outputs": [
    {
     "data": {
      "text/plain": [
       "<matplotlib.axes._subplots.AxesSubplot at 0x125ff7518>"
      ]
     },
     "execution_count": 274,
     "metadata": {},
     "output_type": "execute_result"
    },
    {
     "data": {
      "image/png": "[encoded data removed]",
      "text/plain": [
       "<matplotlib.figure.Figure at 0x12329d3c8>"
      ]
     },
     "metadata": {},
     "output_type": "display_data"
    },
    {
     "data": {
      "image/png": "[encoded data removed]",
      "text/plain": [
       "<matplotlib.figure.Figure at 0x122b30978>"
      ]
     },
     "metadata": {},
     "output_type": "display_data"
    },
    {
     "data": {
      "image/png": "[encoded data removed]",
      "text/plain": [
       "<matplotlib.figure.Figure at 0x125fb8eb8>"
      ]
     },
     "metadata": {},
     "output_type": "display_data"
    }
   ],
   "source": [
    "groups = df.groupby('INTERVAL_START')\n",
    "\n",
    "groups.agg({'BusinessErrorCount' : np.sum}).plot(title='BusinessErrorCount')\n",
    "groups.agg({'TotalTime' : np.sum}).plot(title='TotalTime')\n",
    "groups.agg({'AvgDuration' : np.mean}).plot(title='AvgDuration')\n"
   ]
  },
  {
   "cell_type": "markdown",
   "metadata": {},
   "source": [
    "# building linear model\n",
    "\n"
   ]
  },
  {
   "cell_type": "code",
   "execution_count": null,
   "metadata": {
    "collapsed": true
   },
   "outputs": [],
   "source": []
  },
  {
   "cell_type": "code",
   "execution_count": null,
   "metadata": {},
   "outputs": [],
   "source": [
    "      "
   ]
  },
  {
   "cell_type": "code",
   "execution_count": 275,
   "metadata": {},
   "outputs": [
    {
     "data": {
      "text/html": [
       "<div>\n",
       "<style>\n",
       "    .dataframe thead tr:only-child th {\n",
       "        text-align: right;\n",
       "    }\n",
       "\n",
       "    .dataframe thead th {\n",
       "        text-align: left;\n",
       "    }\n",
       "\n",
       "    .dataframe tbody tr th {\n",
       "        vertical-align: top;\n",
       "    }\n",
       "</style>\n",
       "<table border=\"1\" class=\"dataframe\">\n",
       "  <thead>\n",
       "    <tr style=\"text-align: right;\">\n",
       "      <th></th>\n",
       "      <th>INTERVAL_START</th>\n",
       "      <th>TotalTime</th>\n",
       "    </tr>\n",
       "  </thead>\n",
       "  <tbody>\n",
       "    <tr>\n",
       "      <th>0</th>\n",
       "      <td>2017-09-14 19:00:00</td>\n",
       "      <td>1.539189e+06</td>\n",
       "    </tr>\n",
       "    <tr>\n",
       "      <th>1</th>\n",
       "      <td>2017-09-14 20:00:00</td>\n",
       "      <td>1.449222e+06</td>\n",
       "    </tr>\n",
       "    <tr>\n",
       "      <th>2</th>\n",
       "      <td>2017-09-14 21:00:00</td>\n",
       "      <td>1.175704e+06</td>\n",
       "    </tr>\n",
       "    <tr>\n",
       "      <th>3</th>\n",
       "      <td>2017-09-14 22:00:00</td>\n",
       "      <td>8.963100e+05</td>\n",
       "    </tr>\n",
       "    <tr>\n",
       "      <th>4</th>\n",
       "      <td>2017-09-14 23:00:00</td>\n",
       "      <td>7.005641e+05</td>\n",
       "    </tr>\n",
       "    <tr>\n",
       "      <th>5</th>\n",
       "      <td>2017-09-15 00:00:00</td>\n",
       "      <td>5.452566e+06</td>\n",
       "    </tr>\n",
       "  </tbody>\n",
       "</table>\n",
       "</div>"
      ],
      "text/plain": [
       "       INTERVAL_START     TotalTime\n",
       "0 2017-09-14 19:00:00  1.539189e+06\n",
       "1 2017-09-14 20:00:00  1.449222e+06\n",
       "2 2017-09-14 21:00:00  1.175704e+06\n",
       "3 2017-09-14 22:00:00  8.963100e+05\n",
       "4 2017-09-14 23:00:00  7.005641e+05\n",
       "5 2017-09-15 00:00:00  5.452566e+06"
      ]
     },
     "execution_count": 275,
     "metadata": {},
     "output_type": "execute_result"
    }
   ],
   "source": [
    "test_groups = df0[(df0['INTERVAL_START'] >= '2017-09-14 19:00:00') & (df0['INTERVAL_START'] <= '2017-09-15 00:00:00')].groupby('INTERVAL_START')\n",
    "testData = test_groups.agg({'TotalTime' : np.sum})\n",
    "testData = testData.reset_index()\n",
    "testData.head(10)"
   ]
  },
  {
   "cell_type": "code",
   "execution_count": null,
   "metadata": {},
   "outputs": [],
   "source": []
  },
  {
   "cell_type": "code",
   "execution_count": 276,
   "metadata": {},
   "outputs": [
    {
     "name": "stdout",
     "output_type": "stream",
     "text": [
      "1598230.08825\n",
      "[-223016.1677119]\n"
     ]
    }
   ],
   "source": [
    "from sklearn import linear_model\n",
    "regression_model = linear_model.LinearRegression()\n",
    "\n",
    "#train on all but 1\n",
    "regression_model.fit(X = pd.DataFrame(testData.index[:-1])\n",
    "                     ,y = testData[\"TotalTime\"][:-1])\n",
    "\n",
    "print(regression_model.intercept_)\n",
    "print(regression_model.coef_)"
   ]
  },
  {
   "cell_type": "code",
   "execution_count": 277,
   "metadata": {},
   "outputs": [
    {
     "data": {
      "text/plain": [
       "[<matplotlib.lines.Line2D at 0x11a8fae48>]"
      ]
     },
     "execution_count": 277,
     "metadata": {},
     "output_type": "execute_result"
    },
    {
     "data": {
      "image/png": "[encoded data removed]",
      "text/plain": [
       "<matplotlib.figure.Figure at 0x125f321d0>"
      ]
     },
     "metadata": {},
     "output_type": "display_data"
    }
   ],
   "source": [
    "testData.plot(title='TotalTime',color=\"black\")\n",
    "train_prediction = regression_model.predict(X = pd.DataFrame(testData.index))\n",
    "plt.plot(pd.DataFrame(testData.index),  # Explanitory variable\n",
    "         train_prediction,  # Predicted values\n",
    "         color=\"blue\")"
   ]
  },
  {
   "cell_type": "code",
   "execution_count": 280,
   "metadata": {},
   "outputs": [
    {
     "name": "stdout",
     "output_type": "stream",
     "text": [
      "483149.249687\n",
      "5452565.57495\n",
      "Value/prediction ratio:\n",
      "11.2854683692\n"
     ]
    }
   ],
   "source": [
    "print(train_prediction[-1])\n",
    "print(list(testData['TotalTime'])[-1])\n",
    "print(\"Value/prediction ratio:\")\n",
    "print(list(testData['TotalTime'])[-1]/train_prediction[-1])"
   ]
  },
  {
   "cell_type": "markdown",
   "metadata": {},
   "source": [
    "# linear model for method"
   ]
  },
  {
   "cell_type": "code",
   "execution_count": 330,
   "metadata": {},
   "outputs": [
    {
     "data": {
      "text/html": [
       "<div>\n",
       "<style>\n",
       "    .dataframe thead tr:only-child th {\n",
       "        text-align: right;\n",
       "    }\n",
       "\n",
       "    .dataframe thead th {\n",
       "        text-align: left;\n",
       "    }\n",
       "\n",
       "    .dataframe tbody tr th {\n",
       "        vertical-align: top;\n",
       "    }\n",
       "</style>\n",
       "<table border=\"1\" class=\"dataframe\">\n",
       "  <thead>\n",
       "    <tr style=\"text-align: right;\">\n",
       "      <th></th>\n",
       "      <th>INTERVAL_START</th>\n",
       "      <th>ServiceContractMethod</th>\n",
       "      <th>SucceededCount</th>\n",
       "      <th>BusinessErrorCount</th>\n",
       "      <th>TotalTime</th>\n",
       "      <th>AvgDuration</th>\n",
       "      <th>date</th>\n",
       "    </tr>\n",
       "  </thead>\n",
       "  <tbody>\n",
       "    <tr>\n",
       "      <th>370</th>\n",
       "      <td>2017-03-08 00:00:00</td>\n",
       "      <td>Foris/TelCrm/CustomerManagement/v1/IServicePro...</td>\n",
       "      <td>501410</td>\n",
       "      <td>0</td>\n",
       "      <td>164325.592837</td>\n",
       "      <td>0.327692</td>\n",
       "      <td>2017-03-08</td>\n",
       "    </tr>\n",
       "    <tr>\n",
       "      <th>1193</th>\n",
       "      <td>2017-03-08 01:00:00</td>\n",
       "      <td>Foris/TelCrm/CustomerManagement/v1/IServicePro...</td>\n",
       "      <td>498777</td>\n",
       "      <td>0</td>\n",
       "      <td>346924.173252</td>\n",
       "      <td>0.695692</td>\n",
       "      <td>2017-03-08</td>\n",
       "    </tr>\n",
       "    <tr>\n",
       "      <th>2000</th>\n",
       "      <td>2017-03-08 02:00:00</td>\n",
       "      <td>Foris/TelCrm/CustomerManagement/v1/IServicePro...</td>\n",
       "      <td>494006</td>\n",
       "      <td>0</td>\n",
       "      <td>206002.771085</td>\n",
       "      <td>0.417154</td>\n",
       "      <td>2017-03-08</td>\n",
       "    </tr>\n",
       "    <tr>\n",
       "      <th>2741</th>\n",
       "      <td>2017-03-08 03:00:00</td>\n",
       "      <td>Foris/TelCrm/CustomerManagement/v1/IServicePro...</td>\n",
       "      <td>417326</td>\n",
       "      <td>0</td>\n",
       "      <td>354892.545689</td>\n",
       "      <td>0.850385</td>\n",
       "      <td>2017-03-08</td>\n",
       "    </tr>\n",
       "    <tr>\n",
       "      <th>3510</th>\n",
       "      <td>2017-03-08 04:00:00</td>\n",
       "      <td>Foris/TelCrm/CustomerManagement/v1/IServicePro...</td>\n",
       "      <td>431466</td>\n",
       "      <td>0</td>\n",
       "      <td>99169.778279</td>\n",
       "      <td>0.229923</td>\n",
       "      <td>2017-03-08</td>\n",
       "    </tr>\n",
       "  </tbody>\n",
       "</table>\n",
       "</div>"
      ],
      "text/plain": [
       "          INTERVAL_START                              ServiceContractMethod  \\\n",
       "370  2017-03-08 00:00:00  Foris/TelCrm/CustomerManagement/v1/IServicePro...   \n",
       "1193 2017-03-08 01:00:00  Foris/TelCrm/CustomerManagement/v1/IServicePro...   \n",
       "2000 2017-03-08 02:00:00  Foris/TelCrm/CustomerManagement/v1/IServicePro...   \n",
       "2741 2017-03-08 03:00:00  Foris/TelCrm/CustomerManagement/v1/IServicePro...   \n",
       "3510 2017-03-08 04:00:00  Foris/TelCrm/CustomerManagement/v1/IServicePro...   \n",
       "\n",
       "      SucceededCount  BusinessErrorCount      TotalTime  AvgDuration  \\\n",
       "370           501410                   0  164325.592837     0.327692   \n",
       "1193          498777                   0  346924.173252     0.695692   \n",
       "2000          494006                   0  206002.771085     0.417154   \n",
       "2741          417326                   0  354892.545689     0.850385   \n",
       "3510          431466                   0   99169.778279     0.229923   \n",
       "\n",
       "            date  \n",
       "370   2017-03-08  \n",
       "1193  2017-03-08  \n",
       "2000  2017-03-08  \n",
       "2741  2017-03-08  \n",
       "3510  2017-03-08  "
      ]
     },
     "execution_count": 330,
     "metadata": {},
     "output_type": "execute_result"
    }
   ],
   "source": [
    "#Foris/TelCrm/CustomerManagement/v1/IServiceProvider GetServiceProviderHistory\n",
    "groups = df0.groupby('ServiceContractMethod')\n",
    "group = groups.get_group('Foris/TelCrm/CustomerManagement/v1/IServiceProvider GetServiceProviderHistory')\n",
    "group.head()"
   ]
  },
  {
   "cell_type": "code",
   "execution_count": 335,
   "metadata": {},
   "outputs": [
    {
     "data": {
      "text/html": [
       "<div>\n",
       "<style>\n",
       "    .dataframe thead tr:only-child th {\n",
       "        text-align: right;\n",
       "    }\n",
       "\n",
       "    .dataframe thead th {\n",
       "        text-align: left;\n",
       "    }\n",
       "\n",
       "    .dataframe tbody tr th {\n",
       "        vertical-align: top;\n",
       "    }\n",
       "</style>\n",
       "<table border=\"1\" class=\"dataframe\">\n",
       "  <thead>\n",
       "    <tr style=\"text-align: right;\">\n",
       "      <th></th>\n",
       "      <th>INTERVAL_START</th>\n",
       "      <th>TotalTime</th>\n",
       "    </tr>\n",
       "  </thead>\n",
       "  <tbody>\n",
       "    <tr>\n",
       "      <th>0</th>\n",
       "      <td>2017-09-14 19:00:00</td>\n",
       "      <td>75305.325023</td>\n",
       "    </tr>\n",
       "    <tr>\n",
       "      <th>1</th>\n",
       "      <td>2017-09-14 20:00:00</td>\n",
       "      <td>73286.249250</td>\n",
       "    </tr>\n",
       "    <tr>\n",
       "      <th>2</th>\n",
       "      <td>2017-09-14 21:00:00</td>\n",
       "      <td>60659.629710</td>\n",
       "    </tr>\n",
       "    <tr>\n",
       "      <th>3</th>\n",
       "      <td>2017-09-14 22:00:00</td>\n",
       "      <td>43248.238802</td>\n",
       "    </tr>\n",
       "    <tr>\n",
       "      <th>4</th>\n",
       "      <td>2017-09-14 23:00:00</td>\n",
       "      <td>39742.557102</td>\n",
       "    </tr>\n",
       "    <tr>\n",
       "      <th>5</th>\n",
       "      <td>2017-09-15 00:00:00</td>\n",
       "      <td>99198.180634</td>\n",
       "    </tr>\n",
       "  </tbody>\n",
       "</table>\n",
       "</div>"
      ],
      "text/plain": [
       "       INTERVAL_START     TotalTime\n",
       "0 2017-09-14 19:00:00  75305.325023\n",
       "1 2017-09-14 20:00:00  73286.249250\n",
       "2 2017-09-14 21:00:00  60659.629710\n",
       "3 2017-09-14 22:00:00  43248.238802\n",
       "4 2017-09-14 23:00:00  39742.557102\n",
       "5 2017-09-15 00:00:00  99198.180634"
      ]
     },
     "execution_count": 335,
     "metadata": {},
     "output_type": "execute_result"
    }
   ],
   "source": [
    "import datetime\n",
    "test_groups = group[(group['INTERVAL_START'] >= datetime.datetime.strptime('2017-09-15 00:00:00', \"%Y-%m-%d %H:%M:00\") - datetime.timedelta(hours=5) ) \n",
    "                    & (group['INTERVAL_START'] <= '2017-09-15 00:00:00')].groupby('INTERVAL_START')\n",
    "testData = test_groups.agg({'TotalTime' : np.sum})\n",
    "testData = testData.reset_index()\n",
    "testData.head(10)"
   ]
  },
  {
   "cell_type": "code",
   "execution_count": 340,
   "metadata": {},
   "outputs": [
    {
     "data": {
      "text/plain": [
       "58448.399977400004"
      ]
     },
     "execution_count": 340,
     "metadata": {},
     "output_type": "execute_result"
    }
   ],
   "source": [
    "testData[\"TotalTime\"][:-1].mean()"
   ]
  },
  {
   "cell_type": "code",
   "execution_count": 336,
   "metadata": {},
   "outputs": [
    {
     "name": "stdout",
     "output_type": "stream",
     "text": [
      "78681.1092354\n",
      "[-10116.354629]\n"
     ]
    }
   ],
   "source": [
    "from sklearn import linear_model\n",
    "regression_model = linear_model.LinearRegression()\n",
    "\n",
    "#train on all but 1\n",
    "regression_model.fit(X = pd.DataFrame(testData.index[:-1])\n",
    "                     ,y = testData[\"TotalTime\"][:-1])\n",
    "train_prediction = regression_model.predict(X = pd.DataFrame(testData.index))\n",
    "print(regression_model.intercept_)\n",
    "print(regression_model.coef_)"
   ]
  },
  {
   "cell_type": "code",
   "execution_count": 337,
   "metadata": {},
   "outputs": [
    {
     "data": {
      "text/plain": [
       "[<matplotlib.lines.Line2D at 0x12530d5f8>]"
      ]
     },
     "execution_count": 337,
     "metadata": {},
     "output_type": "execute_result"
    },
    {
     "data": {
      "image/png": "[encoded data removed]",
      "text/plain": [
       "<matplotlib.figure.Figure at 0x12552a7f0>"
      ]
     },
     "metadata": {},
     "output_type": "display_data"
    }
   ],
   "source": [
    "testData.plot(title='TotalTime',color=\"black\")\n",
    "plt.plot(pd.DataFrame(testData.index),  # Explanitory variable\n",
    "         train_prediction,  # Predicted values\n",
    "         color=\"blue\")"
   ]
  },
  {
   "cell_type": "code",
   "execution_count": 338,
   "metadata": {},
   "outputs": [
    {
     "name": "stdout",
     "output_type": "stream",
     "text": [
      "28099.3360904\n",
      "99198.180634\n",
      "Value/prediction ratio:\n",
      "3.53026777269\n"
     ]
    }
   ],
   "source": [
    "print(train_prediction[-1])\n",
    "print(list(testData['TotalTime'])[-1])\n",
    "print(\"Value/prediction ratio:\")\n",
    "print(list(testData['TotalTime'])[-1]/train_prediction[-1])"
   ]
  },
  {
   "cell_type": "code",
   "execution_count": null,
   "metadata": {
    "collapsed": true
   },
   "outputs": [],
   "source": []
  },
  {
   "cell_type": "code",
   "execution_count": null,
   "metadata": {
    "collapsed": true
   },
   "outputs": [],
   "source": []
  }
 ],
 "metadata": {
  "kernelspec": {
   "display_name": "Python 3",
   "language": "python",
   "name": "python3"
  },
  "language_info": {
   "codemirror_mode": {
    "name": "ipython",
    "version": 3
   },
   "file_extension": ".py",
   "mimetype": "text/x-python",
   "name": "python",
   "nbconvert_exporter": "python",
   "pygments_lexer": "ipython3",
   "version": "3.6.2"
  }
 },
 "nbformat": 4,
 "nbformat_minor": 2
}
